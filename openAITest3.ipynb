{
  "nbformat": 4,
  "nbformat_minor": 0,
  "metadata": {
    "colab": {
      "provenance": [],
      "authorship_tag": "ABX9TyM9vuqGK9zXI5R1P73HHWgg",
      "include_colab_link": true
    },
    "kernelspec": {
      "name": "python3",
      "display_name": "Python 3"
    },
    "language_info": {
      "name": "python"
    }
  },
  "cells": [
    {
      "cell_type": "markdown",
      "metadata": {
        "id": "view-in-github",
        "colab_type": "text"
      },
      "source": [
        "<a href=\"https://colab.research.google.com/github/ixcel87/openAI/blob/main/openAITest3.ipynb\" target=\"_parent\"><img src=\"https://colab.research.google.com/assets/colab-badge.svg\" alt=\"Open In Colab\"/></a>"
      ]
    },
    {
      "cell_type": "code",
      "execution_count": 6,
      "metadata": {
        "id": "9qhpeLclCa1K"
      },
      "outputs": [],
      "source": [
        "from google.colab import userdata, auth\n",
        "import openai\n",
        "import json\n",
        "import spacy\n",
        "\n",
        "userdata.get('openAPIKey1')\n",
        "nlp = spacy.load(\"en_core_web_sm\")\n",
        "openai.api_key = userdata.get('openAPIKey1')"
      ]
    },
    {
      "cell_type": "code",
      "source": [
        "# spaCy and it's pre-trained English LLM\n",
        "\n",
        "!pip install openai\n",
        "!pip install spacy\n",
        "!python -m spacy download en_core_web_sm"
      ],
      "metadata": {
        "id": "2DHYECI7LYQU"
      },
      "execution_count": null,
      "outputs": []
    },
    {
      "cell_type": "code",
      "source": [
        "prompt = \"What are the effects of climate change?\"  #@param {type: \"string\"}\n",
        "\n",
        "model_choice = \"gpt-4\"  #@param ['gpt-3.5-turbo-16k', 'gpt-3.5-turbo', 'gpt-4']\n",
        "\n",
        "def generate_text(prompt, model=model_choice):\n",
        "    try:\n",
        "        response = openai.chat.completions.create(\n",
        "            model=model,\n",
        "            messages=[\n",
        "                {\"role\": \"system\", \"content\": \"You are a hardworking assistant.\"},\n",
        "                {\"role\": \"user\", \"content\": prompt}\n",
        "            ]\n",
        "        )\n",
        "        return response.choices[0].message.content\n",
        "    except Exception as e:\n",
        "        return f\"An error occurred: {e}\"\n",
        "\n",
        "generated_text = generate_text(prompt)\n",
        "\n",
        "print(\"Generated Text:\")\n",
        "print(generated_text)"
      ],
      "metadata": {
        "colab": {
          "base_uri": "https://localhost:8080/"
        },
        "id": "wb16lG_ZLaZi",
        "outputId": "1eca005e-07f1-4c1f-d347-107f7f5d5dcc"
      },
      "execution_count": 8,
      "outputs": [
        {
          "output_type": "stream",
          "name": "stdout",
          "text": [
            "Generated Text:\n",
            "Climate change has significant and far-reaching effects on our planet. Here are some of these effects:\n",
            "\n",
            "1. Rising Global Temperatures: One of the most direct effects of climate change is an increase in average global temperatures, largely due to the higher amounts of greenhouse gases, such as carbon dioxide, in the atmosphere.\n",
            "\n",
            "2. Extreme Weather Events: Climate change has been linked to an increase in extreme weather events, such as hurricanes, droughts, heatwaves, and heavy rainfall.\n",
            "\n",
            "3. Melting Polar Ice and Rising Sea Levels: Higher temperatures are causing polar ice caps and glaciers to melt at an accelerated rate. This, in turn, contributes to rising sea levels, posing a significant risk to coastal communities.\n",
            "\n",
            "4. Ocean Acidification: The ocean absorbs about a third of CO2 emissions, which leads to acidification, adversely affecting marine life, particularly shellfish and coral reefs.\n",
            "\n",
            "5. Impacts on Wildlife: Climate change can disrupt wildlife and their habitats, forced migration, and even lead to extinction. Many species struggle to adapt to the quick changes.\n",
            "\n",
            "6. Health Impacts: Climate change also impacts human health, with rising temperatures contributing to heat-related illnesses. Changes in air and water quality can lead to a spread of diseases.\n",
            "\n",
            "7. Agricultural Impact: Changes in temperature, rainfall patterns, and extreme weather events can reduce agricultural productivity, leading to food supply issues.\n",
            "\n",
            "8. Socioeconomic Consequences: Climate change can lead to displacement of people (climate refugees), increase poverty, and lead to economic instability due to the costs associated with extreme weather events and health impacts. \n",
            "\n",
            "The effects of climate change are prompting worldwide initiatives to reduce greenhouse emissions and mitigate its most harmful impacts.\n"
          ]
        }
      ]
    },
    {
      "cell_type": "code",
      "source": [],
      "metadata": {
        "id": "gbPXKr97LbEK"
      },
      "execution_count": null,
      "outputs": []
    },
    {
      "cell_type": "code",
      "source": [],
      "metadata": {
        "id": "eR9nVXzSLbKy"
      },
      "execution_count": null,
      "outputs": []
    },
    {
      "cell_type": "code",
      "source": [],
      "metadata": {
        "id": "h6CyFdRKLbPi"
      },
      "execution_count": null,
      "outputs": []
    },
    {
      "cell_type": "code",
      "source": [],
      "metadata": {
        "id": "449gX6-hLbUC"
      },
      "execution_count": null,
      "outputs": []
    },
    {
      "cell_type": "code",
      "source": [],
      "metadata": {
        "id": "rx9Eq5mdLbYK"
      },
      "execution_count": null,
      "outputs": []
    },
    {
      "cell_type": "markdown",
      "source": [],
      "metadata": {
        "id": "tBCfCzytLbaq"
      }
    },
    {
      "cell_type": "code",
      "source": [],
      "metadata": {
        "id": "L2kanXUNLbsa"
      },
      "execution_count": null,
      "outputs": []
    },
    {
      "cell_type": "code",
      "source": [],
      "metadata": {
        "id": "sjgKv-4dLbwC"
      },
      "execution_count": null,
      "outputs": []
    },
    {
      "cell_type": "code",
      "source": [],
      "metadata": {
        "id": "Y4pJ_8fELbyy"
      },
      "execution_count": null,
      "outputs": []
    },
    {
      "cell_type": "code",
      "source": [],
      "metadata": {
        "id": "OecXjtr1Lb1a"
      },
      "execution_count": null,
      "outputs": []
    },
    {
      "cell_type": "code",
      "source": [],
      "metadata": {
        "id": "t-0w6KuvLb4C"
      },
      "execution_count": null,
      "outputs": []
    },
    {
      "cell_type": "code",
      "source": [],
      "metadata": {
        "id": "dGeUdzKGLb9a"
      },
      "execution_count": null,
      "outputs": []
    },
    {
      "cell_type": "code",
      "source": [],
      "metadata": {
        "id": "bXvoN2i2LcAC"
      },
      "execution_count": null,
      "outputs": []
    },
    {
      "cell_type": "code",
      "source": [],
      "metadata": {
        "id": "2-yBIXjjLcCz"
      },
      "execution_count": null,
      "outputs": []
    },
    {
      "cell_type": "code",
      "source": [],
      "metadata": {
        "id": "x39QRAJXLcFi"
      },
      "execution_count": null,
      "outputs": []
    },
    {
      "cell_type": "code",
      "source": [],
      "metadata": {
        "id": "VGjc0R2yLcIS"
      },
      "execution_count": null,
      "outputs": []
    },
    {
      "cell_type": "code",
      "source": [],
      "metadata": {
        "id": "vC2x9u2hLcLC"
      },
      "execution_count": null,
      "outputs": []
    },
    {
      "cell_type": "code",
      "source": [],
      "metadata": {
        "id": "GPfnKGgwLcNy"
      },
      "execution_count": null,
      "outputs": []
    },
    {
      "cell_type": "markdown",
      "source": [],
      "metadata": {
        "id": "Hx15zTAzLcSi"
      }
    }
  ]
}