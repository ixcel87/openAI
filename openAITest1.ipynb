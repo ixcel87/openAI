{
  "nbformat": 4,
  "nbformat_minor": 0,
  "metadata": {
    "colab": {
      "provenance": [],
      "authorship_tag": "ABX9TyPJ4ay0F5QsS86Ht7Fqek+H",
      "include_colab_link": true
    },
    "kernelspec": {
      "name": "python3",
      "display_name": "Python 3"
    },
    "language_info": {
      "name": "python"
    }
  },
  "cells": [
    {
      "cell_type": "markdown",
      "metadata": {
        "id": "view-in-github",
        "colab_type": "text"
      },
      "source": [
        "<a href=\"https://colab.research.google.com/github/ixcel87/openAI/blob/main/openAITest1.ipynb\" target=\"_parent\"><img src=\"https://colab.research.google.com/assets/colab-badge.svg\" alt=\"Open In Colab\"/></a>"
      ]
    },
    {
      "cell_type": "code",
      "execution_count": 21,
      "metadata": {
        "id": "9qhpeLclCa1K"
      },
      "outputs": [],
      "source": [
        "from google.colab import userdata, auth\n",
        "import openai\n",
        "import json\n",
        "userdata.get('openAPIKey1')\n",
        "\n",
        "openai.api_key = userdata.get('openAPIKey1')"
      ]
    },
    {
      "cell_type": "code",
      "source": [
        "!pip install openai"
      ],
      "metadata": {
        "id": "2DHYECI7LYQU"
      },
      "execution_count": null,
      "outputs": []
    },
    {
      "cell_type": "code",
      "source": [
        "def ask_gpt():\n",
        "\n",
        "    model_choice = \"gpt-4\"  #@param ['gpt-3.5-turbo-16k', 'gpt-3.5-turbo', 'gpt-4']\n",
        "    # model_choice = 'gpt-4'\n",
        "    insert_prompt = \"write me a song modeled after rick james\"  #@param {type: \"string\"}\n",
        "    try:\n",
        "        # Make an API call to OpenAI\n",
        "        response = openai.chat.completions.create(\n",
        "            model=model_choice,\n",
        "            messages=[\n",
        "                {\"role\": \"system\", \"content\": \"You are a helpful assistant.\"},\n",
        "                {\"role\": \"user\", \"content\": insert_prompt}\n",
        "            ]\n",
        "        )\n",
        "\n",
        "        data = json.loads(response.model_dump_json())\n",
        "        json_str = json.dumps(data, indent=3)\n",
        "        print(json_str, end=3*'\\n')\n",
        "\n",
        "        return response.choices[0].message.content\n",
        "\n",
        "    except Exception as e:\n",
        "        return f\"An error occurred: {e}\"\n",
        "\n",
        "print(ask_gpt())"
      ],
      "metadata": {
        "colab": {
          "base_uri": "https://localhost:8080/"
        },
        "id": "wb16lG_ZLaZi",
        "outputId": "bad072fb-f0ef-4a96-9cf0-76ee58c5a6e9"
      },
      "execution_count": 27,
      "outputs": [
        {
          "output_type": "stream",
          "name": "stdout",
          "text": [
            "{\n",
            "   \"id\": \"chatcmpl-9hjHiTQY2NAinPOd9KiIEHheTo2HL\",\n",
            "   \"choices\": [\n",
            "      {\n",
            "         \"finish_reason\": \"stop\",\n",
            "         \"index\": 0,\n",
            "         \"logprobs\": null,\n",
            "         \"message\": {\n",
            "            \"content\": \"(Verse 1)\\nStruttin' through this neon city, got my leather boots so pretty,\\nThey hear my footsteps echo, yeah, they know my name.\\nCool as the moonlight, shinin' so bright, it\\u2019s me they call the night,\\nEarned my reputation, in this funky rhythm game.\\n\\n(Chorus)\\nLike Rick James, baby, that's the fame,\\nGot that fire burning in my veins.\\nIn the groove, setting the rules, playing no fools,\\nLike Rick James, baby, feel the flame.\\n\\n(Verse 2)\\nGot a golden aura, in the rearview of my Impala,\\nTail lights glow in the distance, leaving traces of our game.\\nLife\\u2019s a dancefloor baby, feel the rhythm driving you crazy,\\nDo you feel the essence, can you handle the flame?\\n\\n(Chorus)\\nLike Rick James, honey, feel the groove,\\nMove to my rhythm, let's make our moves. \\nIn this shining city, looking so pretty,\\nJust like Rick James, babe, it\\u2019s time to prove.\\n\\n(Bridge)\\nGot this heart a'beating, got this spirit a'feeling,\\nA wild beat, yeah, just like Own and Stevie.\\nSugar and spice, everything nice,\\nLike Rick James, baby, this ecstasy\\u2019s so relieving.\\n\\n(Chorus)\\nLike Rick James, darlin', in the disco light,\\nWe're gonna keep this groove tight.\\nLiving in this melody, feeling so free,\\nLike Rick James, sweetheart, we own the night.\\n\\n(Outro)\\nFeel the fire, feel the beat; step into my fever heat,\\nLiving life fast with no restrain, slaying it like Rick James.\\nLiving the high, touching the sky; dancing till the day we die,\\nJust like Rick James, baby, we're in the fame\\u2019s lane.\\n\",\n",
            "            \"role\": \"assistant\",\n",
            "            \"function_call\": null,\n",
            "            \"tool_calls\": null\n",
            "         }\n",
            "      }\n",
            "   ],\n",
            "   \"created\": 1720209206,\n",
            "   \"model\": \"gpt-4-0613\",\n",
            "   \"object\": \"chat.completion\",\n",
            "   \"service_tier\": null,\n",
            "   \"system_fingerprint\": null,\n",
            "   \"usage\": {\n",
            "      \"completion_tokens\": 374,\n",
            "      \"prompt_tokens\": 26,\n",
            "      \"total_tokens\": 400\n",
            "   }\n",
            "}\n",
            "\n",
            "\n",
            "(Verse 1)\n",
            "Struttin' through this neon city, got my leather boots so pretty,\n",
            "They hear my footsteps echo, yeah, they know my name.\n",
            "Cool as the moonlight, shinin' so bright, it’s me they call the night,\n",
            "Earned my reputation, in this funky rhythm game.\n",
            "\n",
            "(Chorus)\n",
            "Like Rick James, baby, that's the fame,\n",
            "Got that fire burning in my veins.\n",
            "In the groove, setting the rules, playing no fools,\n",
            "Like Rick James, baby, feel the flame.\n",
            "\n",
            "(Verse 2)\n",
            "Got a golden aura, in the rearview of my Impala,\n",
            "Tail lights glow in the distance, leaving traces of our game.\n",
            "Life’s a dancefloor baby, feel the rhythm driving you crazy,\n",
            "Do you feel the essence, can you handle the flame?\n",
            "\n",
            "(Chorus)\n",
            "Like Rick James, honey, feel the groove,\n",
            "Move to my rhythm, let's make our moves. \n",
            "In this shining city, looking so pretty,\n",
            "Just like Rick James, babe, it’s time to prove.\n",
            "\n",
            "(Bridge)\n",
            "Got this heart a'beating, got this spirit a'feeling,\n",
            "A wild beat, yeah, just like Own and Stevie.\n",
            "Sugar and spice, everything nice,\n",
            "Like Rick James, baby, this ecstasy’s so relieving.\n",
            "\n",
            "(Chorus)\n",
            "Like Rick James, darlin', in the disco light,\n",
            "We're gonna keep this groove tight.\n",
            "Living in this melody, feeling so free,\n",
            "Like Rick James, sweetheart, we own the night.\n",
            "\n",
            "(Outro)\n",
            "Feel the fire, feel the beat; step into my fever heat,\n",
            "Living life fast with no restrain, slaying it like Rick James.\n",
            "Living the high, touching the sky; dancing till the day we die,\n",
            "Just like Rick James, baby, we're in the fame’s lane.\n",
            "\n"
          ]
        }
      ]
    },
    {
      "cell_type": "code",
      "source": [],
      "metadata": {
        "id": "gbPXKr97LbEK"
      },
      "execution_count": null,
      "outputs": []
    },
    {
      "cell_type": "code",
      "source": [],
      "metadata": {
        "id": "eR9nVXzSLbKy"
      },
      "execution_count": null,
      "outputs": []
    },
    {
      "cell_type": "code",
      "source": [],
      "metadata": {
        "id": "h6CyFdRKLbPi"
      },
      "execution_count": null,
      "outputs": []
    },
    {
      "cell_type": "code",
      "source": [],
      "metadata": {
        "id": "449gX6-hLbUC"
      },
      "execution_count": null,
      "outputs": []
    },
    {
      "cell_type": "code",
      "source": [],
      "metadata": {
        "id": "rx9Eq5mdLbYK"
      },
      "execution_count": null,
      "outputs": []
    },
    {
      "cell_type": "markdown",
      "source": [],
      "metadata": {
        "id": "tBCfCzytLbaq"
      }
    },
    {
      "cell_type": "code",
      "source": [],
      "metadata": {
        "id": "L2kanXUNLbsa"
      },
      "execution_count": null,
      "outputs": []
    },
    {
      "cell_type": "code",
      "source": [],
      "metadata": {
        "id": "sjgKv-4dLbwC"
      },
      "execution_count": null,
      "outputs": []
    },
    {
      "cell_type": "code",
      "source": [],
      "metadata": {
        "id": "Y4pJ_8fELbyy"
      },
      "execution_count": null,
      "outputs": []
    },
    {
      "cell_type": "code",
      "source": [],
      "metadata": {
        "id": "OecXjtr1Lb1a"
      },
      "execution_count": null,
      "outputs": []
    },
    {
      "cell_type": "code",
      "source": [],
      "metadata": {
        "id": "t-0w6KuvLb4C"
      },
      "execution_count": null,
      "outputs": []
    },
    {
      "cell_type": "code",
      "source": [],
      "metadata": {
        "id": "dGeUdzKGLb9a"
      },
      "execution_count": null,
      "outputs": []
    },
    {
      "cell_type": "code",
      "source": [],
      "metadata": {
        "id": "bXvoN2i2LcAC"
      },
      "execution_count": null,
      "outputs": []
    },
    {
      "cell_type": "code",
      "source": [],
      "metadata": {
        "id": "2-yBIXjjLcCz"
      },
      "execution_count": null,
      "outputs": []
    },
    {
      "cell_type": "code",
      "source": [],
      "metadata": {
        "id": "x39QRAJXLcFi"
      },
      "execution_count": null,
      "outputs": []
    },
    {
      "cell_type": "code",
      "source": [],
      "metadata": {
        "id": "VGjc0R2yLcIS"
      },
      "execution_count": null,
      "outputs": []
    },
    {
      "cell_type": "code",
      "source": [],
      "metadata": {
        "id": "vC2x9u2hLcLC"
      },
      "execution_count": null,
      "outputs": []
    },
    {
      "cell_type": "code",
      "source": [],
      "metadata": {
        "id": "GPfnKGgwLcNy"
      },
      "execution_count": null,
      "outputs": []
    },
    {
      "cell_type": "markdown",
      "source": [],
      "metadata": {
        "id": "Hx15zTAzLcSi"
      }
    }
  ]
}